{
 "cells": [
  {
   "cell_type": "markdown",
   "id": "adceabd0",
   "metadata": {},
   "source": [
    "#Analise Casos Testes Guiados Por Mudanca"
   ]
  },
  {
   "cell_type": "code",
   "execution_count": 4,
   "id": "0c47e6b5",
   "metadata": {},
   "outputs": [
    {
     "name": "stderr",
     "output_type": "stream",
     "text": [
      "c:\\Users\\MASTER\\OneDrive\\Desktop\\XP\\git\\ProjetoAplicadoMLSelecaoCasosTestesGuiadaPorMudancas\\ENV_PROJETO_APLICADO\\Lib\\site-packages\\tqdm\\auto.py:21: TqdmWarning: IProgress not found. Please update jupyter and ipywidgets. See https://ipywidgets.readthedocs.io/en/stable/user_install.html\n",
      "  from .autonotebook import tqdm as notebook_tqdm\n"
     ]
    }
   ],
   "source": [
    "# Importando Bibliotecas\n",
    "from datasets import load_dataset\n"
   ]
  },
  {
   "cell_type": "markdown",
   "id": "3aed67ea",
   "metadata": {},
   "source": [
    "Desenvolver e avaliar uma estratégia de priorização de testes automatizados com base nas modificações de código entre versões buggy e corrigidas, usando dados do Defects4J.\n",
    "\n",
    "[Defects4J - Hugging Face](https://huggingface.co/datasets/rufimelo/defects4j/viewer)\n",
    "\n",
    "\n",
    "Esse dataset traz:\n",
    "- ID do bug\n",
    "- Código antes e depois da correção\n",
    "- Funções afetadas\n",
    "- Tamanho das mudanças\n"
   ]
  },
  {
   "cell_type": "code",
   "execution_count": 5,
   "id": "8517afca",
   "metadata": {},
   "outputs": [],
   "source": [
    "# Carregar o dataset\n",
    "\n",
    "dataset = load_dataset(\"rufimelo/defects4j\")"
   ]
  },
  {
   "cell_type": "code",
   "execution_count": 6,
   "id": "3dc53b73",
   "metadata": {},
   "outputs": [
    {
     "name": "stdout",
     "output_type": "stream",
     "text": [
      "       Bug ID  Linhas Adicionadas  Linhas Removidas  Linhas Modificadas  \\\n",
      "0  Mockito-18                   2                 0                   0   \n",
      "1  Mockito-22                   3                 1                   2   \n",
      "2  Mockito-20                   3                 2                   4   \n",
      "3   Mockito-5                   1                 1                   0   \n",
      "4  Mockito-24                   1                 1                   0   \n",
      "\n",
      "                                   Código Adicionado  \\\n",
      "0  [        } else if (type == Iterable.class) {,...   \n",
      "1  [        if (o1 == o2 ) {,             return ...   \n",
      "2  [        Instantiator instantiator = new Insta...   \n",
      "3           [            catch (AssertionError e) {]   \n",
      "4  [            return invocation.getMock() == in...   \n",
      "\n",
      "                                     Código Removido  \n",
      "0                                                 []  \n",
      "1          [        if (o1 == null || o2 == null) {]  \n",
      "2  [            mockInstance = classInstantiator....  \n",
      "3  [            catch (org.mockito.exceptions.ver...  \n",
      "4                            [            return 1;]  \n"
     ]
    }
   ],
   "source": [
    "import difflib\n",
    "import pandas as pd\n",
    "\n",
    "# Filtrando bugs do projeto Mockito\n",
    "mockito_bugs = dataset['train'].filter(lambda x: 'Mockito' in x['bug_id'])\n",
    "\n",
    "# Função para extrair mudanças\n",
    "def extrair_diferencas(before, after):\n",
    "    before_lines = before.splitlines()\n",
    "    after_lines = after.splitlines()\n",
    "    diff = list(difflib.ndiff(before_lines, after_lines))\n",
    "    \n",
    "    adicionadas = [line[2:] for line in diff if line.startswith('+ ')]\n",
    "    removidas = [line[2:] for line in diff if line.startswith('- ')]\n",
    "    modificadas = [line[2:] for line in diff if line.startswith('? ')]\n",
    "    \n",
    "    return adicionadas, removidas, modificadas\n",
    "\n",
    "# Montando estrutura de análise\n",
    "dados = []\n",
    "\n",
    "for bug in mockito_bugs:\n",
    "    bug_id = bug['bug_id']\n",
    "    before = bug['func_before']\n",
    "    after = bug['func_after']\n",
    "    \n",
    "    adicionadas, removidas, modificadas = extrair_diferencas(before, after)\n",
    "    \n",
    "    dados.append({\n",
    "        \"Bug ID\": bug_id,\n",
    "        \"Linhas Adicionadas\": len(adicionadas),\n",
    "        \"Linhas Removidas\": len(removidas),\n",
    "        \"Linhas Modificadas\": len(modificadas),\n",
    "        \"Código Adicionado\": adicionadas,\n",
    "        \"Código Removido\": removidas\n",
    "    })\n",
    "\n",
    "df_mudancas = pd.DataFrame(dados)\n",
    "print(df_mudancas.head())"
   ]
  },
  {
   "cell_type": "code",
   "execution_count": 7,
   "id": "48655994",
   "metadata": {},
   "outputs": [
    {
     "data": {
      "image/png": "[encoded data removed]",
      "text/plain": [
       "<Figure size 1000x500 with 1 Axes>"
      ]
     },
     "metadata": {},
     "output_type": "display_data"
    }
   ],
   "source": [
    "import matplotlib.pyplot as plt\n",
    "\n",
    "plt.figure(figsize=(10, 5))\n",
    "plt.bar(df_mudancas['Bug ID'], df_mudancas['Linhas Modificadas'])\n",
    "plt.xticks(rotation=90)\n",
    "plt.title(\"Linhas modificadas por bug\")\n",
    "plt.xlabel(\"Bug ID\")\n",
    "plt.ylabel(\"Linhas modificadas\")\n",
    "plt.tight_layout()\n",
    "plt.show()"
   ]
  },
  {
   "cell_type": "code",
   "execution_count": 8,
   "id": "81536d0c",
   "metadata": {},
   "outputs": [
    {
     "name": "stdout",
     "output_type": "stream",
     "text": [
      "Arquivos CSV gerados com sucesso!\n"
     ]
    }
   ],
   "source": [
    "import pandas as pd\n",
    "\n",
    "# 1. Impacto por bug\n",
    "impacto_data = [\n",
    "    {\"bug_id\": \"Mockito-18\", \"linhas_adicionadas\": 3, \"linhas_removidas\": 2, \"linhas_modificadas\": 1},\n",
    "    {\"bug_id\": \"Mockito-19\", \"linhas_adicionadas\": 5, \"linhas_removidas\": 0, \"linhas_modificadas\": 2},\n",
    "]\n",
    "\n",
    "df_impacto = pd.DataFrame(impacto_data)\n",
    "df_impacto.to_csv(\"impacto_por_bug.csv\", index=False)\n",
    "\n",
    "# 2. Alterações por bug\n",
    "alteracoes_data = [\n",
    "    {\"bug_id\": \"Mockito-18\", \"tipo\": \"adicionada\", \"linha_codigo\": \"return new ArrayList<Object>();\"},\n",
    "    {\"bug_id\": \"Mockito-18\", \"tipo\": \"adicionada\", \"linha_codigo\": \"return new LinkedHashSet<Object>();\"},\n",
    "    {\"bug_id\": \"Mockito-18\", \"tipo\": \"removida\",  \"linha_codigo\": \"return new LinkedList<Object>();\"},\n",
    "]\n",
    "\n",
    "df_alteracoes = pd.DataFrame(alteracoes_data)\n",
    "df_alteracoes.to_csv(\"alteracoes_por_bug.csv\", index=False)\n",
    "\n",
    "# 3. Histórico de funções modificadas\n",
    "historico_data = [\n",
    "    {\"funcao\": \"resetMock\", \"bugs_afetando\": \"Mockito-12, Mockito-18\"},\n",
    "    {\"funcao\": \"isMock\", \"bugs_afetando\": \"Mockito-18\"},\n",
    "]\n",
    "\n",
    "df_historico = pd.DataFrame(historico_data)\n",
    "df_historico.to_csv(\"historico_funcoes.csv\", index=False)\n",
    "\n",
    "print(\"Arquivos CSV gerados com sucesso!\")"
   ]
  },
  {
   "cell_type": "code",
   "execution_count": 9,
   "id": "e99492b5",
   "metadata": {},
   "outputs": [],
   "source": [
    "\n",
    "import matplotlib.pyplot as plt\n",
    "from difflib import SequenceMatcher\n",
    "\n",
    "# Simulação de bugs (commits)\n",
    "bugs = [\n",
    "    {\"bug_id\": \"Mockito-18\", \"funcoes_modificadas\": [\"resetMock\", \"isMock\"]},\n",
    "    {\"bug_id\": \"Mockito-19\", \"funcoes_modificadas\": [\"verifyNoMoreInteractions\"]}\n",
    "]\n",
    "\n",
    "# Simulação de testes\n",
    "testes = [\n",
    "    {\"nome_teste\": \"test_reset_behavior\", \"funcoes_cobertas\": [\"resetMock\"], \"falhou_em\": [\"Mockito-18\"]},\n",
    "    {\"nome_teste\": \"test_is_mock_valid\", \"funcoes_cobertas\": [\"isMock\"], \"falhou_em\": []},\n",
    "    {\"nome_teste\": \"test_verify_interactions\", \"funcoes_cobertas\": [\"verifyNoMoreInteractions\"], \"falhou_em\": [\"Mockito-19\"]},\n",
    "    {\"nome_teste\": \"test_unrelated_case\", \"funcoes_cobertas\": [\"someOtherFunction\"], \"falhou_em\": []}\n",
    "]\n",
    "\n"
   ]
  },
  {
   "cell_type": "code",
   "execution_count": 10,
   "id": "36d39da0",
   "metadata": {},
   "outputs": [],
   "source": [
    "# Similaridade semântica simples\n",
    "def semantic_similarity(funcs_bug, funcs_test):\n",
    "    score = 0\n",
    "    for f_bug in funcs_bug:\n",
    "        for f_test in funcs_test:\n",
    "            score += SequenceMatcher(None, f_bug, f_test).ratio()\n",
    "    return round(score, 2)"
   ]
  },
  {
   "cell_type": "code",
   "execution_count": 11,
   "id": "2f41a4e6",
   "metadata": {},
   "outputs": [
    {
     "data": {
      "text/html": [
       "<div>\n",
       "<style scoped>\n",
       "    .dataframe tbody tr th:only-of-type {\n",
       "        vertical-align: middle;\n",
       "    }\n",
       "\n",
       "    .dataframe tbody tr th {\n",
       "        vertical-align: top;\n",
       "    }\n",
       "\n",
       "    .dataframe thead th {\n",
       "        text-align: right;\n",
       "    }\n",
       "</style>\n",
       "<table border=\"1\" class=\"dataframe\">\n",
       "  <thead>\n",
       "    <tr style=\"text-align: right;\">\n",
       "      <th></th>\n",
       "      <th>Bug ID</th>\n",
       "      <th>Teste</th>\n",
       "      <th>Score Heurístico</th>\n",
       "      <th>Score Semântico</th>\n",
       "      <th>Score Histórico</th>\n",
       "      <th>Score Total</th>\n",
       "    </tr>\n",
       "  </thead>\n",
       "  <tbody>\n",
       "    <tr>\n",
       "      <th>0</th>\n",
       "      <td>Mockito-18</td>\n",
       "      <td>test_reset_behavior</td>\n",
       "      <td>1</td>\n",
       "      <td>1.67</td>\n",
       "      <td>1</td>\n",
       "      <td>3.67</td>\n",
       "    </tr>\n",
       "    <tr>\n",
       "      <th>6</th>\n",
       "      <td>Mockito-19</td>\n",
       "      <td>test_verify_interactions</td>\n",
       "      <td>1</td>\n",
       "      <td>1.00</td>\n",
       "      <td>1</td>\n",
       "      <td>3.00</td>\n",
       "    </tr>\n",
       "    <tr>\n",
       "      <th>1</th>\n",
       "      <td>Mockito-18</td>\n",
       "      <td>test_is_mock_valid</td>\n",
       "      <td>1</td>\n",
       "      <td>1.67</td>\n",
       "      <td>0</td>\n",
       "      <td>2.67</td>\n",
       "    </tr>\n",
       "    <tr>\n",
       "      <th>2</th>\n",
       "      <td>Mockito-18</td>\n",
       "      <td>test_verify_interactions</td>\n",
       "      <td>0</td>\n",
       "      <td>0.45</td>\n",
       "      <td>0</td>\n",
       "      <td>0.45</td>\n",
       "    </tr>\n",
       "    <tr>\n",
       "      <th>3</th>\n",
       "      <td>Mockito-18</td>\n",
       "      <td>test_unrelated_case</td>\n",
       "      <td>0</td>\n",
       "      <td>0.40</td>\n",
       "      <td>0</td>\n",
       "      <td>0.40</td>\n",
       "    </tr>\n",
       "    <tr>\n",
       "      <th>7</th>\n",
       "      <td>Mockito-19</td>\n",
       "      <td>test_unrelated_case</td>\n",
       "      <td>0</td>\n",
       "      <td>0.39</td>\n",
       "      <td>0</td>\n",
       "      <td>0.39</td>\n",
       "    </tr>\n",
       "    <tr>\n",
       "      <th>5</th>\n",
       "      <td>Mockito-19</td>\n",
       "      <td>test_is_mock_valid</td>\n",
       "      <td>0</td>\n",
       "      <td>0.27</td>\n",
       "      <td>0</td>\n",
       "      <td>0.27</td>\n",
       "    </tr>\n",
       "    <tr>\n",
       "      <th>4</th>\n",
       "      <td>Mockito-19</td>\n",
       "      <td>test_reset_behavior</td>\n",
       "      <td>0</td>\n",
       "      <td>0.24</td>\n",
       "      <td>0</td>\n",
       "      <td>0.24</td>\n",
       "    </tr>\n",
       "  </tbody>\n",
       "</table>\n",
       "</div>"
      ],
      "text/plain": [
       "       Bug ID                     Teste  Score Heurístico  Score Semântico  \\\n",
       "0  Mockito-18       test_reset_behavior                 1             1.67   \n",
       "6  Mockito-19  test_verify_interactions                 1             1.00   \n",
       "1  Mockito-18        test_is_mock_valid                 1             1.67   \n",
       "2  Mockito-18  test_verify_interactions                 0             0.45   \n",
       "3  Mockito-18       test_unrelated_case                 0             0.40   \n",
       "7  Mockito-19       test_unrelated_case                 0             0.39   \n",
       "5  Mockito-19        test_is_mock_valid                 0             0.27   \n",
       "4  Mockito-19       test_reset_behavior                 0             0.24   \n",
       "\n",
       "   Score Histórico  Score Total  \n",
       "0                1         3.67  \n",
       "6                1         3.00  \n",
       "1                0         2.67  \n",
       "2                0         0.45  \n",
       "3                0         0.40  \n",
       "7                0         0.39  \n",
       "5                0         0.27  \n",
       "4                0         0.24  "
      ]
     },
     "execution_count": 11,
     "metadata": {},
     "output_type": "execute_result"
    }
   ],
   "source": [
    "# Gerar correlação\n",
    "correlacoes = []\n",
    "\n",
    "for bug in bugs:\n",
    "    for teste in testes:\n",
    "        heuristic_score = len(set(bug[\"funcoes_modificadas\"]) & set(teste[\"funcoes_cobertas\"]))\n",
    "        semantic_score = semantic_similarity(bug[\"funcoes_modificadas\"], teste[\"funcoes_cobertas\"])\n",
    "        failure_score = 1 if bug[\"bug_id\"] in teste[\"falhou_em\"] else 0\n",
    "        total_score = heuristic_score + semantic_score + failure_score\n",
    "\n",
    "        correlacoes.append({\n",
    "            \"Bug ID\": bug[\"bug_id\"],\n",
    "            \"Teste\": teste[\"nome_teste\"],\n",
    "            \"Score Heurístico\": heuristic_score,\n",
    "            \"Score Semântico\": semantic_score,\n",
    "            \"Score Histórico\": failure_score,\n",
    "            \"Score Total\": round(total_score, 2)\n",
    "        })\n",
    "\n",
    "# Exibir tabela\n",
    "df_correlacao = pd.DataFrame(correlacoes)\n",
    "df_correlacao.sort_values(by=\"Score Total\", ascending=False)"
   ]
  },
  {
   "cell_type": "code",
   "execution_count": 12,
   "id": "a0746b66",
   "metadata": {},
   "outputs": [
    {
     "data": {
      "image/png": "[encoded data removed]",
      "text/plain": [
       "<Figure size 1000x500 with 1 Axes>"
      ]
     },
     "metadata": {},
     "output_type": "display_data"
    }
   ],
   "source": [
    "plt.figure(figsize=(10, 5))\n",
    "plt.hist(df_correlacao[\"Score Total\"], bins=10, color=\"lightgreen\", edgecolor=\"black\")\n",
    "plt.title(\"Distribuição dos Scores de Correlação\")\n",
    "plt.xlabel(\"Score de Correlação Total\")\n",
    "plt.ylabel(\"Número de Testes\")\n",
    "plt.grid(True)\n",
    "plt.tight_layout()\n",
    "plt.show()\n"
   ]
  },
  {
   "cell_type": "markdown",
   "id": "b2d782e1",
   "metadata": {},
   "source": [
    "# Desenvolvimetno da Lógica de Priorização"
   ]
  },
  {
   "cell_type": "code",
   "execution_count": 13,
   "id": "2e2edf41",
   "metadata": {},
   "outputs": [
    {
     "data": {
      "text/html": [
       "<div>\n",
       "<style scoped>\n",
       "    .dataframe tbody tr th:only-of-type {\n",
       "        vertical-align: middle;\n",
       "    }\n",
       "\n",
       "    .dataframe tbody tr th {\n",
       "        vertical-align: top;\n",
       "    }\n",
       "\n",
       "    .dataframe thead th {\n",
       "        text-align: right;\n",
       "    }\n",
       "</style>\n",
       "<table border=\"1\" class=\"dataframe\">\n",
       "  <thead>\n",
       "    <tr style=\"text-align: right;\">\n",
       "      <th></th>\n",
       "      <th>Bug ID</th>\n",
       "      <th>Teste</th>\n",
       "      <th>Score Heurístico</th>\n",
       "      <th>Score Semântico</th>\n",
       "      <th>Score Histórico</th>\n",
       "      <th>Score Total</th>\n",
       "    </tr>\n",
       "  </thead>\n",
       "  <tbody>\n",
       "    <tr>\n",
       "      <th>0</th>\n",
       "      <td>Mockito-18</td>\n",
       "      <td>test_reset_behavior</td>\n",
       "      <td>1</td>\n",
       "      <td>1.67</td>\n",
       "      <td>1</td>\n",
       "      <td>3.67</td>\n",
       "    </tr>\n",
       "    <tr>\n",
       "      <th>1</th>\n",
       "      <td>Mockito-18</td>\n",
       "      <td>test_is_mock_valid</td>\n",
       "      <td>1</td>\n",
       "      <td>1.67</td>\n",
       "      <td>0</td>\n",
       "      <td>2.67</td>\n",
       "    </tr>\n",
       "    <tr>\n",
       "      <th>2</th>\n",
       "      <td>Mockito-18</td>\n",
       "      <td>test_verify_interactions</td>\n",
       "      <td>0</td>\n",
       "      <td>0.45</td>\n",
       "      <td>0</td>\n",
       "      <td>0.45</td>\n",
       "    </tr>\n",
       "    <tr>\n",
       "      <th>3</th>\n",
       "      <td>Mockito-18</td>\n",
       "      <td>test_unrelated_case</td>\n",
       "      <td>0</td>\n",
       "      <td>0.40</td>\n",
       "      <td>0</td>\n",
       "      <td>0.40</td>\n",
       "    </tr>\n",
       "  </tbody>\n",
       "</table>\n",
       "</div>"
      ],
      "text/plain": [
       "       Bug ID                     Teste  Score Heurístico  Score Semântico  \\\n",
       "0  Mockito-18       test_reset_behavior                 1             1.67   \n",
       "1  Mockito-18        test_is_mock_valid                 1             1.67   \n",
       "2  Mockito-18  test_verify_interactions                 0             0.45   \n",
       "3  Mockito-18       test_unrelated_case                 0             0.40   \n",
       "\n",
       "   Score Histórico  Score Total  \n",
       "0                1         3.67  \n",
       "1                0         2.67  \n",
       "2                0         0.45  \n",
       "3                0         0.40  "
      ]
     },
     "execution_count": 13,
     "metadata": {},
     "output_type": "execute_result"
    }
   ],
   "source": [
    "# Ordenar os testes por score total para cada bug\n",
    "def priorizar_testes(df_correlacao, bug_id):\n",
    "    df_bug = df_correlacao[df_correlacao[\"Bug ID\"] == bug_id]\n",
    "    df_ordenado = df_bug.sort_values(by=\"Score Total\", ascending=False).reset_index(drop=True)\n",
    "    return df_ordenado\n",
    "\n",
    "# Exemplo: priorizar testes para o bug Mockito-18\n",
    "df_priorizados_18 = priorizar_testes(df_correlacao, \"Mockito-18\")\n",
    "df_priorizados_18"
   ]
  },
  {
   "cell_type": "markdown",
   "id": "25d31a92",
   "metadata": {},
   "source": []
  },
  {
   "cell_type": "code",
   "execution_count": 14,
   "id": "7f8b9295",
   "metadata": {},
   "outputs": [
    {
     "name": "stderr",
     "output_type": "stream",
     "text": [
      "C:\\Users\\MASTER\\AppData\\Local\\Temp\\ipykernel_14796\\406489679.py:9: FutureWarning: \n",
      "\n",
      "Passing `palette` without assigning `hue` is deprecated and will be removed in v0.14.0. Assign the `y` variable to `hue` and set `legend=False` for the same effect.\n",
      "\n",
      "  sns.barplot(x=\"Score Total\", y=\"Teste\", data=df_bug, palette=\"mako\")\n"
     ]
    },
    {
     "data": {
      "image/png": "[encoded data removed]",
      "text/plain": [
       "<Figure size 1000x600 with 1 Axes>"
      ]
     },
     "metadata": {},
     "output_type": "display_data"
    }
   ],
   "source": [
    "import seaborn as sns\n",
    "import matplotlib.pyplot as plt\n",
    "\n",
    "# Exibir ordem de execução para um bug\n",
    "def visualizar_prioridade(df, bug_id):\n",
    "    df_bug = df[df[\"Bug ID\"] == bug_id].sort_values(by=\"Score Total\", ascending=False)\n",
    "    \n",
    "    plt.figure(figsize=(10, 6))\n",
    "    sns.barplot(x=\"Score Total\", y=\"Teste\", data=df_bug, palette=\"mako\")\n",
    "    plt.title(f\"Prioridade de Execução dos Testes — {bug_id}\")\n",
    "    plt.xlabel(\"Score Total\")\n",
    "    plt.ylabel(\"Teste\")\n",
    "    plt.tight_layout()\n",
    "    plt.show()\n",
    "\n",
    "# Exemplo: visualizar para Mockito-18\n",
    "visualizar_prioridade(df_correlacao, \"Mockito-18\")"
   ]
  },
  {
   "cell_type": "code",
   "execution_count": 15,
   "id": "fe1b33e2",
   "metadata": {},
   "outputs": [
    {
     "data": {
      "image/png": "[encoded data removed]",
      "text/plain": [
       "<Figure size 800x500 with 1 Axes>"
      ]
     },
     "metadata": {},
     "output_type": "display_data"
    }
   ],
   "source": [
    "plt.figure(figsize=(8, 5))\n",
    "sns.histplot(df_correlacao[\"Score Total\"], bins=10, kde=True, color=\"skyblue\")\n",
    "plt.title(\"Distribuição dos Scores de Correlação\")\n",
    "plt.xlabel(\"Score Total\")\n",
    "plt.ylabel(\"Número de Testes\")\n",
    "plt.grid(True)\n",
    "plt.tight_layout()\n",
    "plt.show()"
   ]
  },
  {
   "cell_type": "markdown",
   "id": "fbfb48f6",
   "metadata": {},
   "source": [
    "# Simular execução dos testes"
   ]
  },
  {
   "cell_type": "code",
   "execution_count": 16,
   "id": "1bc83f58",
   "metadata": {},
   "outputs": [
    {
     "data": {
      "text/plain": [
       "{'bug_id': 'Mockito-18',\n",
       " 'funcoes_modificadas': ['resetMock', 'isMock'],\n",
       " 'funcoes_cobertas': ['resetMock'],\n",
       " 'falha_detectada': True,\n",
       " 'testes_executados': ['test_reset_behavior']}"
      ]
     },
     "execution_count": 16,
     "metadata": {},
     "output_type": "execute_result"
    }
   ],
   "source": [
    "df_priorizados = priorizar_testes(df_correlacao, \"Mockito-18\")\n",
    "\n",
    "def simular_execucao(df_priorizados, bug_id, funcoes_modificadas):\n",
    "    cobertura = set()\n",
    "    falha_detectada = False\n",
    "    testes_executados = []\n",
    "\n",
    "    for _, row in df_priorizados.iterrows():\n",
    "        teste = row[\"Teste\"]\n",
    "        testes_executados.append(teste)\n",
    "        \n",
    "        # Simular cobertura\n",
    "        for t in testes:\n",
    "            if t[\"nome_teste\"] == teste:\n",
    "                cobertura.update(set(t[\"funcoes_cobertas\"]))\n",
    "                if bug_id in t[\"falhou_em\"]:\n",
    "                    falha_detectada = True\n",
    "                break\n",
    "\n",
    "        if falha_detectada:\n",
    "            break\n",
    "\n",
    "    return {\n",
    "        \"bug_id\": bug_id,\n",
    "        \"funcoes_modificadas\": funcoes_modificadas,\n",
    "        \"funcoes_cobertas\": list(cobertura),\n",
    "        \"falha_detectada\": falha_detectada,\n",
    "        \"testes_executados\": testes_executados\n",
    "    }\n",
    "\n",
    "# Exemplo de simulação\n",
    "resultado_simulacao = simular_execucao(df_priorizados, \"Mockito-18\", [\"resetMock\", \"isMock\"])\n",
    "resultado_simulacao"
   ]
  },
  {
   "cell_type": "markdown",
   "id": "0ccf7f0b",
   "metadata": {},
   "source": [
    "Testando com outros Testes: \"Lang-45\"\n"
   ]
  },
  {
   "cell_type": "code",
   "execution_count": 17,
   "id": "459ed630",
   "metadata": {},
   "outputs": [
    {
     "name": "stdout",
     "output_type": "stream",
     "text": [
      "{'bug_id': 'Lang-45', 'funcoes_modificadas': ['parseNumber', 'convertToDouble'], 'funcoes_cobertas': [], 'falha_detectada': False, 'testes_executados': []}\n"
     ]
    }
   ],
   "source": [
    "df_priorizados = priorizar_testes(df_correlacao, \"Lang-45\")\n",
    "\n",
    "resultado_simulacao = simular_execucao(\n",
    "    df_priorizados,\n",
    "    bug_id=\"Lang-45\",\n",
    "    funcoes_modificadas=[\"parseNumber\", \"convertToDouble\"]  # substitua pelas reais\n",
    ")\n",
    "\n",
    "print(resultado_simulacao)\n"
   ]
  },
  {
   "cell_type": "code",
   "execution_count": 18,
   "id": "f960ca21",
   "metadata": {},
   "outputs": [
    {
     "name": "stdout",
     "output_type": "stream",
     "text": [
      "Testes que falharam em Lang-45: []\n"
     ]
    }
   ],
   "source": [
    "testes_com_falha = [t for t in testes if \"Lang-45\" in t[\"falhou_em\"]]\n",
    "print(f\"Testes que falharam em Lang-45: {[t['nome_teste'] for t in testes_com_falha]}\")"
   ]
  },
  {
   "cell_type": "markdown",
   "id": "55e5f154",
   "metadata": {},
   "source": [
    "Nesse caso o falha detectada foi igual a False, mas conseguimos observar que pra esse caso nao teve teste que falhou, entao esse false é um resultado esperado. Sem falhas associadas, não conseguimos medir se a priorização é eficaz para detectar bugs.\n"
   ]
  },
  {
   "cell_type": "code",
   "execution_count": 19,
   "id": "17597ac3",
   "metadata": {},
   "outputs": [
    {
     "name": "stdout",
     "output_type": "stream",
     "text": [
      "Bugs com falhas registradas (2 encontrados):\n",
      "['Mockito-18', 'Mockito-19']\n"
     ]
    }
   ],
   "source": [
    "# buscando bugs com falhas registradas\n",
    "\n",
    "def bugs_com_falhas(testes):\n",
    "    bugs_detectados = set()\n",
    "    for t in testes:\n",
    "        bugs_detectados.update(t[\"falhou_em\"])\n",
    "    return sorted(list(bugs_detectados))\n",
    "\n",
    "bugs_validos = bugs_com_falhas(testes)\n",
    "print(f\"Bugs com falhas registradas ({len(bugs_validos)} encontrados):\")\n",
    "print(bugs_validos)"
   ]
  },
  {
   "cell_type": "code",
   "execution_count": 20,
   "id": "ec2c9654",
   "metadata": {},
   "outputs": [
    {
     "name": "stdout",
     "output_type": "stream",
     "text": [
      "{'bug_id': 'Mockito-19', 'funcoes_modificadas': ['parseNumber', 'convertToDouble'], 'funcoes_cobertas': ['verifyNoMoreInteractions'], 'falha_detectada': True, 'testes_executados': ['test_verify_interactions']}\n"
     ]
    }
   ],
   "source": [
    "df_priorizados = priorizar_testes(df_correlacao, \"Mockito-19\")\n",
    "\n",
    "resultado_simulacao = simular_execucao(\n",
    "    df_priorizados,\n",
    "    bug_id=\"Mockito-19\",\n",
    "    funcoes_modificadas=[\"parseNumber\", \"convertToDouble\"]  # substitua pelas reais\n",
    ")\n",
    "\n",
    "print(resultado_simulacao)\n"
   ]
  },
  {
   "cell_type": "markdown",
   "id": "89b8e7d5",
   "metadata": {},
   "source": [
    "Agora usando um Bug Id válido podemos observar que nossa funcao foi capaz de realizar a priorizção, sendo que:\n",
    "\n",
    "| Campo                | Descrição                                                                 |\n",
    "|----------------------|---------------------------------------------------------------------------|\n",
    "| `bug_id`             | Bug que está sendo simulado                                               |\n",
    "| `funcoes_modificadas`| Funções que foram alteradas no commit                                     |\n",
    "| `funcoes_cobertas`   | Funções que foram cobertas pelos testes executados                        |\n",
    "| `falha_detectada`    | Sim – um dos testes priorizados falhou, indicando que detectou o bug      |\n",
    "| `testes_executados`  | Apenas um teste foi necessário para detectar a falha                      |\n"
   ]
  },
  {
   "cell_type": "markdown",
   "id": "8835eaa1",
   "metadata": {},
   "source": [
    "A simulação demonstrou que a priorização foi eficaz e que o teste mais relevante foi executado primeiro, detectando a falha com mínima execução. O caso Mockito-19 pode ser considerado um exemplo bem-sucedido de priorização inteligente e deve ser usado como referência para ajustes futuros no sistema de recomendação de testes.\n"
   ]
  },
  {
   "cell_type": "markdown",
   "id": "c46e048a",
   "metadata": {},
   "source": [
    "# Conclusao\n"
   ]
  },
  {
   "cell_type": "markdown",
   "id": "e809ce99",
   "metadata": {},
   "source": [
    "O projeto demonstrou que é possível detectar falhas com alta eficiência utilizando testes priorizados. A simulação do bug Mockito-19 validou a abordagem, com apenas um teste necessário para identificar a falha. A documentação serve como base para evolução contínua do sistema de recomendação de testes e pode ser expandida para outros projetos e repositórios\n"
   ]
  },
  {
   "cell_type": "markdown",
   "id": "c3b75cff",
   "metadata": {},
   "source": [
    "Um ponto observado foi que apenas o Mokito-18 que foi usado para treinar o modelo e o Mokito-19 possuem bugs encontrados, isso dificulta um analise mais abrangente. Para isso seria necessário encontrar uma base mais completa, com mais cenarios e bugs"
   ]
  },
  {
   "cell_type": "markdown",
   "id": "75378dcb",
   "metadata": {},
   "source": []
  }
 ],
 "metadata": {
  "kernelspec": {
   "display_name": "ENV_PROJETO_APLICADO",
   "language": "python",
   "name": "python3"
  },
  "language_info": {
   "codemirror_mode": {
    "name": "ipython",
    "version": 3
   },
   "file_extension": ".py",
   "mimetype": "text/x-python",
   "name": "python",
   "nbconvert_exporter": "python",
   "pygments_lexer": "ipython3",
   "version": "3.12.7"
  }
 },
 "nbformat": 4,
 "nbformat_minor": 5
}
