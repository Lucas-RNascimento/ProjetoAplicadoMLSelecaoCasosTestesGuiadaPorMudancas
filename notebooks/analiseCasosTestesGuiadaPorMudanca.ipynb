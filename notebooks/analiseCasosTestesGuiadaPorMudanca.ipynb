{
 "cells": [
  {
   "cell_type": "markdown",
   "id": "adceabd0",
   "metadata": {},
   "source": [
    "#Analise Casos Testes Guiados Por Mudanca"
   ]
  },
  {
   "cell_type": "code",
   "execution_count": 4,
   "id": "0c47e6b5",
   "metadata": {},
   "outputs": [
    {
     "name": "stderr",
     "output_type": "stream",
     "text": [
      "c:\\Users\\MASTER\\OneDrive\\Desktop\\XP\\git\\ProjetoAplicadoMLSelecaoCasosTestesGuiadaPorMudancas\\ENV_PROJETO_APLICADO\\Lib\\site-packages\\tqdm\\auto.py:21: TqdmWarning: IProgress not found. Please update jupyter and ipywidgets. See https://ipywidgets.readthedocs.io/en/stable/user_install.html\n",
      "  from .autonotebook import tqdm as notebook_tqdm\n"
     ]
    }
   ],
   "source": [
    "# Importando Bibliotecas\n",
    "from datasets import load_dataset\n"
   ]
  },
  {
   "cell_type": "markdown",
   "id": "3aed67ea",
   "metadata": {},
   "source": [
    "Desenvolver e avaliar uma estratégia de priorização de testes automatizados com base nas modificações de código entre versões buggy e corrigidas, usando dados do Defects4J.\n",
    "\n",
    "[Defects4J - Hugging Face](https://huggingface.co/datasets/rufimelo/defects4j/viewer)\n",
    "\n",
    "\n",
    "Esse dataset traz:\n",
    "- ID do bug\n",
    "- Código antes e depois da correção\n",
    "- Funções afetadas\n",
    "- Tamanho das mudanças\n"
   ]
  },
  {
   "cell_type": "code",
   "execution_count": 5,
   "id": "8517afca",
   "metadata": {},
   "outputs": [
    {
     "name": "stderr",
     "output_type": "stream",
     "text": [
      "c:\\Users\\MASTER\\OneDrive\\Desktop\\XP\\git\\ProjetoAplicadoMLSelecaoCasosTestesGuiadaPorMudancas\\ENV_PROJETO_APLICADO\\Lib\\site-packages\\huggingface_hub\\file_download.py:143: UserWarning: `huggingface_hub` cache-system uses symlinks by default to efficiently store duplicated files but your machine does not support them in C:\\Users\\MASTER\\.cache\\huggingface\\hub\\datasets--rufimelo--defects4j. Caching files will still work but in a degraded version that might require more space on your disk. This warning can be disabled by setting the `HF_HUB_DISABLE_SYMLINKS_WARNING` environment variable. For more details, see https://huggingface.co/docs/huggingface_hub/how-to-cache#limitations.\n",
      "To support symlinks on Windows, you either need to activate Developer Mode or to run Python as an administrator. In order to activate developer mode, see this article: https://docs.microsoft.com/en-us/windows/apps/get-started/enable-your-device-for-development\n",
      "  warnings.warn(message)\n",
      "Generating train split: 100%|██████████| 467/467 [00:00<00:00, 22868.85 examples/s]\n"
     ]
    }
   ],
   "source": [
    "# Carregar o dataset\n",
    "\n",
    "dataset = load_dataset(\"rufimelo/defects4j\")"
   ]
  },
  {
   "cell_type": "code",
   "execution_count": 11,
   "id": "3dc53b73",
   "metadata": {},
   "outputs": [
    {
     "name": "stdout",
     "output_type": "stream",
     "text": [
      "       Bug ID  Linhas Adicionadas  Linhas Removidas  Linhas Modificadas  \\\n",
      "0  Mockito-18                   2                 0                   0   \n",
      "1  Mockito-22                   3                 1                   2   \n",
      "2  Mockito-20                   3                 2                   4   \n",
      "3   Mockito-5                   1                 1                   0   \n",
      "4  Mockito-24                   1                 1                   0   \n",
      "\n",
      "                                   Código Adicionado  \\\n",
      "0  [        } else if (type == Iterable.class) {,...   \n",
      "1  [        if (o1 == o2 ) {,             return ...   \n",
      "2  [        Instantiator instantiator = new Insta...   \n",
      "3           [            catch (AssertionError e) {]   \n",
      "4  [            return invocation.getMock() == in...   \n",
      "\n",
      "                                     Código Removido  \n",
      "0                                                 []  \n",
      "1          [        if (o1 == null || o2 == null) {]  \n",
      "2  [            mockInstance = classInstantiator....  \n",
      "3  [            catch (org.mockito.exceptions.ver...  \n",
      "4                            [            return 1;]  \n"
     ]
    }
   ],
   "source": [
    "import difflib\n",
    "import pandas as pd\n",
    "\n",
    "# Filtrando bugs do projeto Mockito\n",
    "mockito_bugs = dataset['train'].filter(lambda x: 'Mockito' in x['bug_id'])\n",
    "\n",
    "# Função para extrair mudanças\n",
    "def extrair_diferencas(before, after):\n",
    "    before_lines = before.splitlines()\n",
    "    after_lines = after.splitlines()\n",
    "    diff = list(difflib.ndiff(before_lines, after_lines))\n",
    "    \n",
    "    adicionadas = [line[2:] for line in diff if line.startswith('+ ')]\n",
    "    removidas = [line[2:] for line in diff if line.startswith('- ')]\n",
    "    modificadas = [line[2:] for line in diff if line.startswith('? ')]\n",
    "    \n",
    "    return adicionadas, removidas, modificadas\n",
    "\n",
    "# Montando estrutura de análise\n",
    "dados = []\n",
    "\n",
    "for bug in mockito_bugs:\n",
    "    bug_id = bug['bug_id']\n",
    "    before = bug['func_before']\n",
    "    after = bug['func_after']\n",
    "    \n",
    "    adicionadas, removidas, modificadas = extrair_diferencas(before, after)\n",
    "    \n",
    "    dados.append({\n",
    "        \"Bug ID\": bug_id,\n",
    "        \"Linhas Adicionadas\": len(adicionadas),\n",
    "        \"Linhas Removidas\": len(removidas),\n",
    "        \"Linhas Modificadas\": len(modificadas),\n",
    "        \"Código Adicionado\": adicionadas,\n",
    "        \"Código Removido\": removidas\n",
    "    })\n",
    "\n",
    "df_mudancas = pd.DataFrame(dados)\n",
    "print(df_mudancas.head())"
   ]
  },
  {
   "cell_type": "code",
   "execution_count": 12,
   "id": "48655994",
   "metadata": {},
   "outputs": [
    {
     "data": {
      "image/png": "[encoded data removed]",
      "text/plain": [
       "<Figure size 1000x500 with 1 Axes>"
      ]
     },
     "metadata": {},
     "output_type": "display_data"
    }
   ],
   "source": [
    "import matplotlib.pyplot as plt\n",
    "\n",
    "plt.figure(figsize=(10, 5))\n",
    "plt.bar(df_mudancas['Bug ID'], df_mudancas['Linhas Modificadas'])\n",
    "plt.xticks(rotation=90)\n",
    "plt.title(\"Linhas modificadas por bug\")\n",
    "plt.xlabel(\"Bug ID\")\n",
    "plt.ylabel(\"Linhas modificadas\")\n",
    "plt.tight_layout()\n",
    "plt.show()"
   ]
  },
  {
   "cell_type": "code",
   "execution_count": 13,
   "id": "81536d0c",
   "metadata": {},
   "outputs": [
    {
     "name": "stdout",
     "output_type": "stream",
     "text": [
      "Arquivos CSV gerados com sucesso!\n"
     ]
    }
   ],
   "source": [
    "import pandas as pd\n",
    "\n",
    "# 1. Impacto por bug\n",
    "impacto_data = [\n",
    "    {\"bug_id\": \"Mockito-18\", \"linhas_adicionadas\": 3, \"linhas_removidas\": 2, \"linhas_modificadas\": 1},\n",
    "    {\"bug_id\": \"Mockito-19\", \"linhas_adicionadas\": 5, \"linhas_removidas\": 0, \"linhas_modificadas\": 2},\n",
    "]\n",
    "\n",
    "df_impacto = pd.DataFrame(impacto_data)\n",
    "df_impacto.to_csv(\"impacto_por_bug.csv\", index=False)\n",
    "\n",
    "# 2. Alterações por bug\n",
    "alteracoes_data = [\n",
    "    {\"bug_id\": \"Mockito-18\", \"tipo\": \"adicionada\", \"linha_codigo\": \"return new ArrayList<Object>();\"},\n",
    "    {\"bug_id\": \"Mockito-18\", \"tipo\": \"adicionada\", \"linha_codigo\": \"return new LinkedHashSet<Object>();\"},\n",
    "    {\"bug_id\": \"Mockito-18\", \"tipo\": \"removida\",  \"linha_codigo\": \"return new LinkedList<Object>();\"},\n",
    "]\n",
    "\n",
    "df_alteracoes = pd.DataFrame(alteracoes_data)\n",
    "df_alteracoes.to_csv(\"alteracoes_por_bug.csv\", index=False)\n",
    "\n",
    "# 3. Histórico de funções modificadas\n",
    "historico_data = [\n",
    "    {\"funcao\": \"resetMock\", \"bugs_afetando\": \"Mockito-12, Mockito-18\"},\n",
    "    {\"funcao\": \"isMock\", \"bugs_afetando\": \"Mockito-18\"},\n",
    "]\n",
    "\n",
    "df_historico = pd.DataFrame(historico_data)\n",
    "df_historico.to_csv(\"historico_funcoes.csv\", index=False)\n",
    "\n",
    "print(\"Arquivos CSV gerados com sucesso!\")"
   ]
  }
 ],
 "metadata": {
  "kernelspec": {
   "display_name": "ENV_PROJETO_APLICADO",
   "language": "python",
   "name": "python3"
  },
  "language_info": {
   "codemirror_mode": {
    "name": "ipython",
    "version": 3
   },
   "file_extension": ".py",
   "mimetype": "text/x-python",
   "name": "python",
   "nbconvert_exporter": "python",
   "pygments_lexer": "ipython3",
   "version": "3.12.7"
  }
 },
 "nbformat": 4,
 "nbformat_minor": 5
}
